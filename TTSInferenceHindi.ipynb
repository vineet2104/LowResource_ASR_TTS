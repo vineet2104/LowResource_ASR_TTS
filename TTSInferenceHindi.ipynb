{
 "cells": [
  {
   "cell_type": "markdown",
   "metadata": {
    "id": "JUtte-UL1r3K"
   },
   "source": [
    "**Hindi TTS Interactive notebook using Tacotron 2 and Waveglow**\n",
    "\n",
    "In this notebook, we will be using our checkpoint file of the training notebook we ran previously and use the WaveGlow decoder to get the final output of Hindi Text to Speech.\n",
    "\n",
    "WaveGlow is a flow-based network capable of generating high-quality speech from mel spectrograms. In its true sense, it is a generative model that generates audio by sampling from a distribution. To use a neural network as a generative model, we take samples from a simple distribution, in our case, a zero mean spherical Gaussian with the same number of dimensions as our desired output, and put those samples through a series of layers that transforms the simple distribution to one which has the desired distribution. In this case, we model the distribution of audio samples conditioned on a mel spectrogram.\n",
    "\n"
   ]
  },
  {
   "cell_type": "markdown",
   "metadata": {
    "id": "cPPQDu7an0RR"
   },
   "source": [
    "**Step 1: Mounting Google Drive (ignore if running on local system)**"
   ]
  },
  {
   "cell_type": "code",
   "execution_count": null,
   "metadata": {
    "colab": {
     "base_uri": "https://localhost:8080/"
    },
    "id": "FxZkId54DJCm",
    "outputId": "9c28774c-3e3a-48a4-e062-710c0dc607cd"
   },
   "outputs": [],
   "source": [
    "from google.colab import drive\n",
    "drive.mount('/content/drive')"
   ]
  },
  {
   "cell_type": "markdown",
   "metadata": {
    "id": "jJ03CPl81r3P"
   },
   "source": [
    "**Step 2: Installing dependencies required**"
   ]
  },
  {
   "cell_type": "code",
   "execution_count": null,
   "metadata": {
    "id": "bAPdvdWgDCJ3"
   },
   "outputs": [],
   "source": [
    "!pip install hparams\n",
    "!pip install unidecode"
   ]
  },
  {
   "cell_type": "markdown",
   "metadata": {
    "id": "8rWkhnTWoD9I"
   },
   "source": [
    "**Step 3: Migrating to the tacotron 2 folder and changing the tensorflow version to 1.xx. The below code was run on google colab. If you are running on your local system, make sure to run it on an environment which has tensorflow 1.x version. Migrate to the tacotron2 folder that you have installed accordingly.**"
   ]
  },
  {
   "cell_type": "code",
   "execution_count": null,
   "metadata": {
    "colab": {
     "base_uri": "https://localhost:8080/"
    },
    "id": "8qRss7qlDOn1",
    "outputId": "2ba0bd8a-fbee-4175-a9ef-b0816d1151fc"
   },
   "outputs": [],
   "source": [
    "%cd \"/content/drive/MyDrive/SSMT/tacotron2\"\n",
    "%tensorflow_version 1.x"
   ]
  },
  {
   "cell_type": "markdown",
   "metadata": {
    "id": "vDyE0EiPoNDC"
   },
   "source": [
    "**Step 4: Importing the necessary packages and files needed to run the inference**"
   ]
  },
  {
   "cell_type": "code",
   "execution_count": null,
   "metadata": {
    "id": "PSfu6srS1r3P"
   },
   "outputs": [],
   "source": [
    "import matplotlib\n",
    "%matplotlib inline\n",
    "import matplotlib.pylab as plt\n",
    "\n",
    "import IPython.display as ipd\n",
    "\n",
    "import sys\n",
    "sys.path.append('waveglow/')\n",
    "import numpy as np\n",
    "import torch\n",
    "\n",
    "from hparams import create_hparams\n",
    "from model import Tacotron2\n",
    "from layers import TacotronSTFT, STFT\n",
    "from audio_processing import griffin_lim\n",
    "from train import load_model\n",
    "from text import text_to_sequence\n",
    "from denoiser import Denoiser"
   ]
  },
  {
   "cell_type": "markdown",
   "metadata": {
    "id": "VIP_YjeYoYw5"
   },
   "source": [
    "**Step 5: Setting up the mel spectrogram plotting function and calling the hyperparamater generator in its default setting**"
   ]
  },
  {
   "cell_type": "code",
   "execution_count": null,
   "metadata": {
    "id": "HGOzZVIF1r3Q"
   },
   "outputs": [],
   "source": [
    "# This function is used to plot the mel-spectrogram of the generated output and alignment graph\n",
    "def plot_data(data, figsize=(16, 4)):\n",
    "    fig, axes = plt.subplots(1, len(data), figsize=figsize)\n",
    "    for i in range(len(data)):\n",
    "        axes[i].imshow(data[i], aspect='auto', origin='bottom', \n",
    "                       interpolation='none')"
   ]
  },
  {
   "cell_type": "code",
   "execution_count": null,
   "metadata": {
    "colab": {
     "base_uri": "https://localhost:8080/"
    },
    "id": "goiKFKn31r3R",
    "outputId": "3c56b334-95e1-4613-aaea-e5e09c50dadb"
   },
   "outputs": [],
   "source": [
    "hparams = create_hparams()\n",
    "hparams.sampling_rate = 22050"
   ]
  },
  {
   "cell_type": "markdown",
   "metadata": {
    "id": "8IepkxFY1r3R"
   },
   "source": [
    "**Step 6: Load model from checkpoint. After training your system, the latest checkpoint file will be saved in the output directory you specify during training. Use this checkpoint as the checkpoint_path**"
   ]
  },
  {
   "cell_type": "code",
   "execution_count": null,
   "metadata": {
    "id": "bjhbp29i1r3R"
   },
   "outputs": [],
   "source": [
    "checkpoint_path = \"/content/drive/MyDrive/SSMT/checkpoints/test12/checkpoint_4400\"\n",
    "model = load_model(hparams)\n",
    "model.load_state_dict(torch.load(checkpoint_path)['state_dict'])\n",
    "_ = model.cuda().eval().half()"
   ]
  },
  {
   "cell_type": "markdown",
   "metadata": {
    "id": "5O1_qu2x1r3S"
   },
   "source": [
    "**Step 7: Load WaveGlow for mel2audio synthesis and denoiser. This waveglow model is the one which we downloaded opensource from tacotron2 github repository**"
   ]
  },
  {
   "cell_type": "code",
   "execution_count": null,
   "metadata": {
    "id": "_niMN9lT1r3S"
   },
   "outputs": [],
   "source": [
    "waveglow_path = '/content/drive/MyDrive/SSMT/waveglow_256channels_universal_v5.pt'\n",
    "waveglow = torch.load(waveglow_path)['model']\n",
    "waveglow.cuda().eval().half()\n",
    "for k in waveglow.convinv:\n",
    "    k.float()\n",
    "denoiser = Denoiser(waveglow)"
   ]
  },
  {
   "cell_type": "markdown",
   "metadata": {
    "id": "3q84WjRp1r3S"
   },
   "source": [
    "**Step 8: Prepare text input**"
   ]
  },
  {
   "cell_type": "code",
   "execution_count": null,
   "metadata": {
    "id": "5oFSrTPs1r3S"
   },
   "outputs": [],
   "source": [
    "text = \"मैं बाज़ार जाता हूँ \"\n",
    "sequence = np.array(text_to_sequence(text, ['transliteration_cleaners']))[None, :]\n",
    "sequence = torch.autograd.Variable(\n",
    "    torch.from_numpy(sequence)).cuda().long()"
   ]
  },
  {
   "cell_type": "markdown",
   "metadata": {
    "id": "Bkqe3MMC1r3S"
   },
   "source": [
    "**Step 9: Decode text input and plot results**"
   ]
  },
  {
   "cell_type": "code",
   "execution_count": null,
   "metadata": {
    "id": "vbBrivqX1r3T",
    "scrolled": true
   },
   "outputs": [],
   "source": [
    "mel_outputs, mel_outputs_postnet, _, alignments = model.inference(sequence)\n",
    "plot_data((mel_outputs_postnet.float().data.cpu().numpy()[0],\n",
    "           alignments.float().data.cpu().numpy()[0].T))"
   ]
  },
  {
   "cell_type": "markdown",
   "metadata": {
    "id": "t5dJQPD6o49p"
   },
   "source": [
    "***A short summary about melspectrograms:***\n",
    "\n",
    "Sound is heard as a result of the variation of pressure with time. However, speech signals are complex entities and a simple pressure variation does not capture enough information for the deep learning model to be trained. Hence in short, a melspectrogram, is a graph which plots three quanitites - Time on the X axis, Frequency on the Y axis and the colors represent the loudness of the sound. \n",
    "\n",
    "The alignment graph seen above is a simple representation of the trajectory of the final output compared to its initial text input\n",
    "\n",
    "\n",
    "\n"
   ]
  },
  {
   "cell_type": "markdown",
   "metadata": {
    "id": "85LAd9LA1r3T"
   },
   "source": [
    "**Step 10: Synthesize audio from spectrogram using WaveGlow**"
   ]
  },
  {
   "cell_type": "code",
   "execution_count": null,
   "metadata": {
    "id": "3sG6ZKYS1r3T"
   },
   "outputs": [],
   "source": [
    "with torch.no_grad():\n",
    "    audio = waveglow.infer(mel_outputs_postnet, sigma=0.666)\n",
    "ipd.Audio(audio[0].data.cpu().numpy(), rate=hparams.sampling_rate)"
   ]
  },
  {
   "cell_type": "markdown",
   "metadata": {
    "id": "o4O66_Q-1r3T"
   },
   "source": [
    "**Step 11: (Optional) Remove WaveGlow bias**"
   ]
  },
  {
   "cell_type": "code",
   "execution_count": null,
   "metadata": {
    "id": "PaS1b6RX1r3U"
   },
   "outputs": [],
   "source": [
    "audio_denoised = denoiser(audio, strength=0.01)[:, 0]\n",
    "ipd.Audio(audio_denoised.cpu().numpy(), rate=hparams.sampling_rate) "
   ]
  },
  {
   "cell_type": "markdown",
   "metadata": {
    "id": "UmcwrypmqZio"
   },
   "source": [
    "**References**\n",
    "\n",
    "* \"Natural TTS Synthesis by Conditioning WaveNet on Mel Spectrogram Predictions\" - Shen et al, ICASSP 2018\n",
    "\n",
    "* \"WaveGlow: A Flow-based Generative Network for Speech Synthesis\" - Prenger et al, ICASSP 2019\n",
    "\n",
    "* Indic TTS Databasee - IIT Madras : https://www.iitm.ac.in/donlab/tts/index.php\n",
    "\n",
    "* Blog on English TTS Using Tacotron 2 and WaveGlow by Nvidia: https://developer.nvidia.com/blog/generate-natural-sounding-speech-from-text-in-real-time/\n",
    "\n",
    "\n"
   ]
  }
 ],
 "metadata": {
  "accelerator": "GPU",
  "colab": {
   "collapsed_sections": [],
   "name": "TTSInferenceHindi.ipynb",
   "provenance": []
  },
  "kernelspec": {
   "display_name": "Python 3",
   "language": "python",
   "name": "python3"
  },
  "language_info": {
   "codemirror_mode": {
    "name": "ipython",
    "version": 3
   },
   "file_extension": ".py",
   "mimetype": "text/x-python",
   "name": "python",
   "nbconvert_exporter": "python",
   "pygments_lexer": "ipython3",
   "version": "3.8.5"
  }
 },
 "nbformat": 4,
 "nbformat_minor": 1
}
